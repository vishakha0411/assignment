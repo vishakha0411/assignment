{
  "nbformat": 4,
  "nbformat_minor": 0,
  "metadata": {
    "colab": {
      "name": "Assiggnment.ipynb",
      "provenance": [],
      "collapsed_sections": [],
      "authorship_tag": "ABX9TyN2nb6iUCvdtPkobKixgV0i",
      "include_colab_link": true
    },
    "kernelspec": {
      "name": "python3",
      "display_name": "Python 3"
    },
    "language_info": {
      "name": "python"
    }
  },
  "cells": [
    {
      "cell_type": "markdown",
      "metadata": {
        "id": "view-in-github",
        "colab_type": "text"
      },
      "source": [
        "<a href=\"https://colab.research.google.com/github/vishakha0411/assignment/blob/main/Assiggnment.ipynb\" target=\"_parent\"><img src=\"https://colab.research.google.com/assets/colab-badge.svg\" alt=\"Open In Colab\"/></a>"
      ]
    },
    {
      "cell_type": "code",
      "metadata": {
        "colab": {
          "base_uri": "https://localhost:8080/",
          "height": 69
        },
        "id": "uzGoS483_fOc",
        "outputId": "b19368d6-cf23-47b6-cebc-f6ec6a503f48"
      },
      "source": [
        "#Question 1) Write the definition of tuple with proper example.\n",
        "'''Tuples are used to store multiple items in a single variable.\n",
        "\n",
        "Tuple is one of 4 built-in data types in Python used to store collections of data, the other 3 are List, Set, and Dictionary, \n",
        "all with different qualities and usage.\n",
        "\n",
        "A tuple is a collection which is ordered and unchangeable.\n",
        "\n",
        "Tuples are written with round brackets.\n",
        "\n",
        "A=('hey','python','java')'''\n"
      ],
      "execution_count": 6,
      "outputs": [
        {
          "output_type": "execute_result",
          "data": {
            "application/vnd.google.colaboratory.intrinsic+json": {
              "type": "string"
            },
            "text/plain": [
              "\"Tuples are used to store multiple items in a single variable.\\n\\nTuple is one of 4 built-in data types in Python used to store collections of data, the other 3 are List, Set, and Dictionary, \\nall with different qualities and usage.\\n\\nA tuple is a collection which is ordered and unchangeable.\\n\\nTuples are written with round brackets.\\n\\nA=('hey','python','java')\""
            ]
          },
          "metadata": {
            "tags": []
          },
          "execution_count": 6
        }
      ]
    },
    {
      "cell_type": "code",
      "metadata": {
        "id": "3BvTfbjz_gRn",
        "colab": {
          "base_uri": "https://localhost:8080/"
        },
        "outputId": "9b9b8059-9300-4864-9580-c5c14aa6842c"
      },
      "source": [
        "Dict = {1: 'hey', 2: 'python', 3: {'A' : 'sana', 'B' : 7, 'C' : '016299'} , 4:\"$#@\"}\n",
        "print(Dict)\n",
        "print(Dict.keys())\n",
        "print(Dict.values())\n",
        "print(Dict[3])\n",
        "print(len(Dict))\n",
        "print(Dict[3]['C'])\n",
        "print(Dict.get(4))\n",
        "Dict[5]='Pune'\n",
        "print(Dict)\n",
        "print(Dict.pop(2))\n",
        "print(Dict.clear())\n"
      ],
      "execution_count": 8,
      "outputs": [
        {
          "output_type": "stream",
          "text": [
            "{1: 'hey', 2: 'python', 3: {'A': 'sana', 'B': 7, 'C': '016299'}, 4: '$#@'}\n",
            "dict_keys([1, 2, 3, 4])\n",
            "dict_values(['hey', 'python', {'A': 'sana', 'B': 7, 'C': '016299'}, '$#@'])\n",
            "{'A': 'sana', 'B': 7, 'C': '016299'}\n",
            "4\n",
            "016299\n",
            "$#@\n",
            "{1: 'hey', 2: 'python', 3: {'A': 'sana', 'B': 7, 'C': '016299'}, 4: '$#@', 5: 'Pune'}\n",
            "python\n",
            "None\n"
          ],
          "name": "stdout"
        }
      ]
    },
    {
      "cell_type": "code",
      "metadata": {
        "id": "frwJXbMq_gZA"
      },
      "source": [
        ""
      ],
      "execution_count": null,
      "outputs": []
    }
  ]
}